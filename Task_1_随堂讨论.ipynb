{
 "cells": [
  {
   "cell_type": "markdown",
   "metadata": {},
   "source": [
    "【随堂讨论】\n",
    "Q1：赋值，浅拷贝和深拷贝的区别\n",
    "Q2：可迭代对象，迭代器，生成器\n",
    "Q3：is和==的区别"
   ]
  },
  {
   "cell_type": "markdown",
   "metadata": {},
   "source": [
    "Q1:\n",
    "1、赋值：简单地拷贝对象的引用，两个对象的id相同"
   ]
  },
  {
   "cell_type": "code",
   "execution_count": 2,
   "metadata": {},
   "outputs": [
    {
     "name": "stdout",
     "output_type": "stream",
     "text": [
      "92089864\n",
      "92089864\n"
     ]
    }
   ],
   "source": [
    "a = [1,2,3]\n",
    "b = a\n",
    "print(id(a))\n",
    "print(id(b))"
   ]
  },
  {
   "cell_type": "markdown",
   "metadata": {},
   "source": [
    "2、所谓“浅拷贝”，是指创建一个新的对象，其内容是原对象中元素的引用。（拷贝组合对象，不拷贝子对象）\n",
    "    \n",
    "    常见的拷贝有切片操作: b = a[:]或者b = [x for x in a];\n",
    "    工厂函数： b = list(a);\n",
    "    copy函数： b = copy.copy(a)"
   ]
  },
  {
   "cell_type": "code",
   "execution_count": 8,
   "metadata": {},
   "outputs": [
    {
     "name": "stdout",
     "output_type": "stream",
     "text": [
      "95228232 95228616\n",
      "1663787168 1663787168\n",
      "1663787200 1663787200\n",
      "1663787232 1663787232\n"
     ]
    }
   ],
   "source": [
    "a = [1,2,3];b = list(a)\n",
    "print(id(a), id(b))        # a和b的身份不同\n",
    "\n",
    "for x, y in zip(a, b):\n",
    "    print(id(x), id(y))    # 但它们包含的子对象身份相同"
   ]
  },
  {
   "cell_type": "markdown",
   "metadata": {},
   "source": [
    "3、所谓“深拷贝”,是指创建一个新的对象，然后递归的拷贝原对象所包含的子对象。深拷贝出来的对象与原对象没有任何关联。\n",
    "深拷贝只有一种方式：copy模块中的deepcopy函数"
   ]
  },
  {
   "cell_type": "code",
   "execution_count": 11,
   "metadata": {},
   "outputs": [
    {
     "name": "stdout",
     "output_type": "stream",
     "text": [
      "95095112 95163912\n",
      "-----------\n",
      "91744712 91744712\n",
      "95164104 95164104\n",
      "95094152 95094152\n"
     ]
    }
   ],
   "source": [
    "import copy\n",
    "a = [[1, 2],[5, 6], [8, 9]]\n",
    "b = copy.copy(a)              # 浅拷贝得到b\n",
    "c = copy.deepcopy(a)          # 深拷贝得到c\n",
    "print(id(a), id(b))# a 和 b 不同\n",
    "print('-----------')\n",
    "for x, y in zip(a, b):        # a 和 b 的子对象相同\n",
    "     print(id(x), id(y))"
   ]
  },
  {
   "cell_type": "code",
   "execution_count": 13,
   "metadata": {},
   "outputs": [
    {
     "name": "stdout",
     "output_type": "stream",
     "text": [
      "95095112 95164936\n",
      "------------\n",
      "91744712 94968456\n",
      "95164104 95096072\n",
      "95094152 95092872\n"
     ]
    }
   ],
   "source": [
    "print(id(a), id(c))           # a 和 c 不同\n",
    "print('------------')\n",
    "for x, y in zip(a, c):        # a 和 c 的子对象也不同\n",
    "    print(id(x), id(y))\n"
   ]
  },
  {
   "cell_type": "markdown",
   "metadata": {},
   "source": [
    "参考：[python赋值、浅拷贝、深拷贝区别](https://www.cnblogs.com/sui776265233/p/9752417.html)"
   ]
  },
  {
   "cell_type": "markdown",
   "metadata": {},
   "source": [
    "Q2: ???"
   ]
  },
  {
   "cell_type": "markdown",
   "metadata": {},
   "source": [
    "Q3:\n",
    "Is 判断对象的id（标识）是否相同\n",
    "== 判断对象的 value（值）是否相同"
   ]
  }
 ],
 "metadata": {
  "kernelspec": {
   "display_name": "Python 3",
   "language": "python",
   "name": "python3"
  },
  "language_info": {
   "codemirror_mode": {
    "name": "ipython",
    "version": 3
   },
   "file_extension": ".py",
   "mimetype": "text/x-python",
   "name": "python",
   "nbconvert_exporter": "python",
   "pygments_lexer": "ipython3",
   "version": "3.6.3"
  }
 },
 "nbformat": 4,
 "nbformat_minor": 2
}
